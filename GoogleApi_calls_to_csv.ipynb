{
 "metadata": {
  "language_info": {
   "codemirror_mode": {
    "name": "ipython",
    "version": 3
   },
   "file_extension": ".py",
   "mimetype": "text/x-python",
   "name": "python",
   "nbconvert_exporter": "python",
   "pygments_lexer": "ipython3",
   "version": "3.7.9-final"
  },
  "orig_nbformat": 2,
  "kernelspec": {
   "name": "python3",
   "display_name": "Python 3",
   "language": "python"
  }
 },
 "nbformat": 4,
 "nbformat_minor": 2,
 "cells": [
  {
   "cell_type": "code",
   "execution_count": 4,
   "metadata": {},
   "outputs": [],
   "source": [
    "import pandas as pd\n",
    "import requests\n",
    "import json\n",
    "import csv\n",
    "import os\n",
    "import time"
   ]
  },
  {
   "cell_type": "code",
   "execution_count": 15,
   "metadata": {},
   "outputs": [],
   "source": [
    "# API Params\n",
    "query = '' # What are you searching\n",
    "location = '' # Where are you searching\n",
    "apikey = '' #Google API key\n"
   ]
  },
  {
   "cell_type": "code",
   "execution_count": 16,
   "metadata": {
    "tags": []
   },
   "outputs": [],
   "source": [
    "def save_results():\n",
    "    if not os.path.isfile('Results.csv'): # If file exist - headers are not saved, file is appended\n",
    "        total_page3.to_csv('Results.csv', mode='a', header=True, index=False)\n",
    "    else:    # if file exists - headers are not inlucded and file is appended                              \n",
    "        total_page3.to_csv('Results.csv', mode='a', header=False, index=False) #Index removed as it's iterating again in each page\n",
    "\n",
    "if location and apikey:\n",
    "    url = 'https://maps.googleapis.com/maps/api/place/textsearch/json?query={},{}&key={}'.format(query, location, apikey)\n",
    "    results = requests.get(url).json()\n",
    "    df = pd.json_normalize(results['results'])\n",
    "    token = results.get(\"next_page_token\",None)    \n",
    "    time.sleep(2)\n",
    "    if token:\n",
    "        url_page2 = 'https://maps.googleapis.com/maps/api/place/textsearch/json?pagetoken={}&key={}'.format(token, apikey)\n",
    "        results_page2 = requests.get(url_page2).json()\n",
    "        df_page2 = pd.json_normalize(results_page2['results'])\n",
    "        total_page2 = df.append(df_page2)\n",
    "        token_page2 = results_page2.get(\"next_page_token\",None)\n",
    "        time.sleep(2)\n",
    "        if token_page2:\n",
    "            url_page3 = 'https://maps.googleapis.com/maps/api/place/textsearch/json?pagetoken={}&key={}'.format(token_page2, apikey)\n",
    "            results_page3 = requests.get(url_page3).json()\n",
    "            df_page3 = pd.json_normalize(results_page3['results'])\n",
    "            total_page3 = total_page2.append(df_page3)\n",
    "            save_results()\n",
    "    else:\n",
    "        print('No next page token')\n",
    "        save_results()\n",
    "else:\n",
    "    print('Apikey or location missing')"
   ]
  }
 ]
}